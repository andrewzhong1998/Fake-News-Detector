{
 "cells": [
  {
   "cell_type": "code",
   "execution_count": 80,
   "metadata": {},
   "outputs": [],
   "source": [
    "import numpy as np"
   ]
  },
  {
   "cell_type": "code",
   "execution_count": 81,
   "metadata": {},
   "outputs": [],
   "source": [
    "test_features = np.load(\"test_features.npy\")\n",
    "test_labels = np.load(\"test_labels.npy\")\n",
    "training_features1 = np.load(\"training_features1.npy\")\n",
    "training_features2 = np.load(\"training_features2.npy\")\n",
    "training_labels1 = np.load(\"training_labels1.npy\")\n",
    "training_labels2 = np.load(\"training_labels2.npy\")\n",
    "validation_features = np.load(\"validation_features.npy\")\n",
    "validation_labels = np.load(\"validation_labels.npy\")"
   ]
  },
  {
   "cell_type": "code",
   "execution_count": 82,
   "metadata": {},
   "outputs": [],
   "source": [
    "small_train_features=training_features1[0:500]\n",
    "small_train_labels=training_labels1[0:500]\n",
    "small_train_features = np.concatenate( ( np.ones((small_train_features.shape[0], 1)), small_train_features ), axis = 1 )\n",
    "training_features1 = np.concatenate( ( np.ones((training_features1.shape[0], 1)), training_features1 ), axis = 1 )\n",
    "validation_features = np.concatenate( ( np.ones((validation_features.shape[0], 1)), validation_features ), axis = 1 )"
   ]
  },
  {
   "cell_type": "code",
   "execution_count": 83,
   "metadata": {},
   "outputs": [],
   "source": [
    "for i in range(small_train_labels.shape[0]):\n",
    "    if(small_train_labels[i]==0):\n",
    "        small_train_labels[i]=-1\n",
    "for i in range(training_labels1.shape[0]):\n",
    "    if(training_labels1[i]==0):\n",
    "        training_labels1[i]=-1\n",
    "for i in range(validation_labels.shape[0]):\n",
    "    if(validation_labels[i]==0):\n",
    "        validation_labels[i]=-1"
   ]
  },
  {
   "cell_type": "code",
   "execution_count": 84,
   "metadata": {},
   "outputs": [],
   "source": [
    "w_init = np.random.randn( training_features1.shape[1] )*0.001\n",
    "w_init[0] = 0"
   ]
  },
  {
   "cell_type": "code",
   "execution_count": 85,
   "metadata": {},
   "outputs": [],
   "source": [
    "#ridge\n",
    "def loglikelihood(w, X, y, alpha): \n",
    "    #compute loglikelihood for current w, b, given the data X, y\n",
    "    #w is a vector, b is a scalr, X is a n*p matrix and y is a vector.\n",
    "    tmp = 1. + np.exp(-y*(np.dot(X,w)))\n",
    "    prob = 1./tmp\n",
    "    X = X.T #X becomes a p*n matrix so the gradVal can be compute straight-forwardly.\n",
    "    gradVal = np.dot(X,y*(1-prob))\n",
    "    penalty = alpha/2.*np.sum(w[1:]**2)\n",
    "    gradPenalty = -alpha*w\n",
    "    gradPenalty[0] = 0;\n",
    "    return -np.sum( np.log( tmp ) ) - penalty, gradVal + gradPenalty"
   ]
  },
  {
   "cell_type": "code",
   "execution_count": 86,
   "metadata": {},
   "outputs": [],
   "source": [
    "import matplotlib.pyplot as plt\n",
    "%matplotlib inline\n",
    "# %load gradient_ascent\n",
    "def gradient_ascent(f,x,init_step,iterations):  \n",
    "    f_val,grad = f(x)                           # compute function value and gradient \n",
    "    f_vals = [f_val]\n",
    "    for it in range(iterations):                # iterate for a fixed number of iterations\n",
    "        #print 'iteration %d' % it\n",
    "        done = False                            # initial condition for done\n",
    "        line_search_it = 0                      # how many times we tried to shrink the step\n",
    "        step = init_step                        # reset step size to the initial size\n",
    "        while not done and line_search_it<100:  # are we done yet?\n",
    "            new_x = x + step*grad               # take a step along the gradient\n",
    "            new_f_val,new_grad = f(new_x)       # evaluate function value and gradient\n",
    "            if new_f_val<f_val:                 # did we go too far?\n",
    "                step = step*0.95                # if so, shrink the step-size\n",
    "                line_search_it += 1             # how many times did we shrank the step\n",
    "            else:\n",
    "                done = True                     # better than the last x, so we move on\n",
    "        \n",
    "        if not done:                            # did not find right step size\n",
    "            print(\"Line Search failed.\")\n",
    "        else:\n",
    "            f_val = new_f_val                   # ah, we are ok, accept the new x\n",
    "            x = new_x\n",
    "            grad = new_grad\n",
    "            f_vals.append(f_val)\n",
    "        plt.plot(f_vals)\n",
    "    plt.xlabel('Iterations')\n",
    "    plt.ylabel('Function value')\n",
    "    return f_val, x"
   ]
  },
  {
   "cell_type": "code",
   "execution_count": 87,
   "metadata": {},
   "outputs": [],
   "source": [
    "def prediction(w, validData ):\n",
    "    prob = 1./(1+np.exp(np.matmul(-validData,w)));\n",
    "    res = np.zeros(validData.shape[0])\n",
    "    res[prob>=0.5] = 1\n",
    "    res[prob<0.5] = -1\n",
    "    return res"
   ]
  },
  {
   "cell_type": "code",
   "execution_count": 88,
   "metadata": {},
   "outputs": [
    {
     "name": "stdout",
     "output_type": "stream",
     "text": [
      "accuracy on the validation set 90.10%\n"
     ]
    },
    {
     "data": {
      "image/png": "[encoded data removed]",
      "text/plain": [
       "<Figure size 432x288 with 1 Axes>"
      ]
     },
     "metadata": {
      "needs_background": "light"
     },
     "output_type": "display_data"
    }
   ],
   "source": [
    "def optimizeFn( init_step, iterations, alpha, w):\n",
    "    #g = lambda xy0: loglikelihood(xy0, train_data_pad, trainLabel, alpha)\n",
    "    g = lambda xy0: loglikelihood(xy0, small_train_features, small_train_labels, alpha)\n",
    "    f_val, update_w = gradient_ascent( g, w, init_step, iterations )\n",
    "    return f_val, update_w\n",
    "#see the accuracy on the validation set\n",
    "#when init_step=1e-5, the model has the best accuracy in the validation set\n",
    "f_val, update_w=optimizeFn( init_step = 1e-5, iterations=1500, alpha=0, w=w_init) #try different alphas [1000, 2000, 3000]\n",
    "pred = prediction(update_w, validation_features)\n",
    "print( 'accuracy on the validation set {:.2f}%'.format( 100.*np.mean(pred==validation_labels)) )"
   ]
  },
  {
   "cell_type": "code",
   "execution_count": 89,
   "metadata": {},
   "outputs": [
    {
     "name": "stdout",
     "output_type": "stream",
     "text": [
      "total predicted fake news: 1014\n",
      "total predicted real news: 986\n",
      "total actual fake news: 990\n",
      "total actual real news: 1010\n",
      "True Positive: 903\n",
      "True Negative: 899\n",
      "False Positive: 111\n",
      "False Negative: 87\n"
     ]
    }
   ],
   "source": [
    "i=j=0;\n",
    "for result in pred:\n",
    "    if(result == 1):\n",
    "        i=i+1;\n",
    "    else:\n",
    "        j=j+1;\n",
    "print(\"total predicted fake news:\",j)\n",
    "print(\"total predicted real news:\",i)\n",
    "i=j=0;\n",
    "for result in validation_labels:\n",
    "    if(result == 1):\n",
    "        i=i+1;\n",
    "    else:\n",
    "        j=j+1;\n",
    "print(\"total actual fake news:\",j)\n",
    "print(\"total actual real news:\",i)\n",
    "i=j=0;\n",
    "index=0;\n",
    "for result in validation_labels:\n",
    "    if(pred[index]==validation_labels[index]):\n",
    "        if(pred[index] == 1):\n",
    "            i=i+1;\n",
    "        else:\n",
    "            j=j+1;\n",
    "    index = index + 1;\n",
    "print(\"True Positive:\",j)\n",
    "print(\"True Negative:\",i)\n",
    "i=j=0;\n",
    "index=0;\n",
    "for result in validation_labels:\n",
    "    if(pred[index]!=validation_labels[index]):\n",
    "        if(pred[index] == 1):\n",
    "            i=i+1;\n",
    "        else:\n",
    "            j=j+1;\n",
    "    index = index + 1;\n",
    "print(\"False Positive:\",j)\n",
    "print(\"False Negative:\",i)"
   ]
  }
 ],
 "metadata": {
  "kernelspec": {
   "display_name": "Python 2",
   "language": "python",
   "name": "python2"
  },
  "language_info": {
   "codemirror_mode": {
    "name": "ipython",
    "version": 2
   },
   "file_extension": ".py",
   "mimetype": "text/x-python",
   "name": "python",
   "nbconvert_exporter": "python",
   "pygments_lexer": "ipython2",
   "version": "2.7.5"
  }
 },
 "nbformat": 4,
 "nbformat_minor": 2
}
