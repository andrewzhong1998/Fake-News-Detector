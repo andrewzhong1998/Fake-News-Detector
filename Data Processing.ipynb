{
 "cells": [
  {
   "cell_type": "markdown",
   "metadata": {},
   "source": [
    "<b>Import data<b>"
   ]
  },
  {
   "cell_type": "code",
   "execution_count": 1,
   "metadata": {},
   "outputs": [],
   "source": [
    "import pandas\n",
    "\n",
    "articles1 = pandas.read_csv(\"/home/ziwei75/Desktop/final_project/articles1.csv\")\n",
    "fakearticle = pandas.read_csv(\"/home/ziwei75/Desktop/final_project/fake.csv\")"
   ]
  },
  {
   "cell_type": "markdown",
   "metadata": {},
   "source": [
    "<b>Process article <b>"
   ]
  },
  {
   "cell_type": "code",
   "execution_count": 2,
   "metadata": {},
   "outputs": [],
   "source": [
    "import numpy as np"
   ]
  },
  {
   "cell_type": "code",
   "execution_count": 3,
   "metadata": {},
   "outputs": [],
   "source": [
    "articles1 = articles1[:10000]\n",
    "fakearticle = fakearticle[:10000]\n",
    "articles1_content = articles1.drop([\"Unnamed: 0\", \"id\", \"publication\",\"author\",\"date\",\"year\",\"month\",\"url\"], axis = 1)\n",
    "articles1_array = np.asarray(articles1_content)\n",
    "fakearticle_content = fakearticle.drop(['uuid', 'ord_in_thread','published','author','language','crawled','site_url','country','domain_rank','thread_title','spam_score','main_img_url','replies_count','participants_count','likes','comments','shares','type'], axis = 1)\n",
    "fake_array = np.asarray(fakearticle_content)"
   ]
  },
  {
   "cell_type": "markdown",
   "metadata": {},
   "source": [
    "<b> create dictionary <b>"
   ]
  },
  {
   "cell_type": "code",
   "execution_count": 4,
   "metadata": {},
   "outputs": [],
   "source": [
    "dict = {}\n",
    "count = 0\n",
    "list = []"
   ]
  },
  {
   "cell_type": "code",
   "execution_count": 5,
   "metadata": {
    "scrolled": true
   },
   "outputs": [],
   "source": [
    "import re\n",
    "datas = [articles1_array, fake_array]\n",
    "for data in datas:\n",
    "    N = np.shape(data)[0];\n",
    "    for i in range(N):\n",
    "        if((type(data[i,0]) is not str)):\n",
    "            continue;\n",
    "        if((type(data[i,1]) is not str)):\n",
    "            continue;\n",
    "        title = re.sub(r'[^\\w\\s]','',data[i,0]).upper().split()\n",
    "        content = re.sub(r'[^\\w\\s]','',data[i,1]).upper().split()\n",
    "        content.extend(title)\n",
    "        for word in content:\n",
    "            if(dict.get(word) is None):\n",
    "                dict[word]=count;\n",
    "                count+=1;"
   ]
  },
  {
   "cell_type": "code",
   "execution_count": 6,
   "metadata": {},
   "outputs": [
    {
     "name": "stdout",
     "output_type": "stream",
     "text": [
      "209429\n"
     ]
    }
   ],
   "source": [
    "print(len([*dict]))"
   ]
  },
  {
   "cell_type": "code",
   "execution_count": 7,
   "metadata": {
    "scrolled": true
   },
   "outputs": [],
   "source": [
    "dictCopy = dict"
   ]
  },
  {
   "cell_type": "code",
   "execution_count": 8,
   "metadata": {},
   "outputs": [],
   "source": [
    "vocab_index = []\n",
    "for vocab, index in dictCopy.items():\n",
    "    vocab_index += [(vocab, index)]"
   ]
  },
  {
   "cell_type": "code",
   "execution_count": 9,
   "metadata": {},
   "outputs": [],
   "source": [
    "with open(\"word_index_mapping\",\"w\") as f:\n",
    "    for vocab, index in vocab_index:\n",
    "        f.write(\"%s, %s \\n\"  %(vocab, index))"
   ]
  },
  {
   "cell_type": "code",
   "execution_count": 10,
   "metadata": {},
   "outputs": [],
   "source": [
    "word_index_mapping = open(\"word_index_mapping\").readlines()"
   ]
  },
  {
   "cell_type": "code",
   "execution_count": 11,
   "metadata": {},
   "outputs": [
    {
     "data": {
      "text/plain": [
       "['WASHINGTON, 0 \\n',\n",
       " 'CONGRESSIONAL, 1 \\n',\n",
       " 'REPUBLICANS, 2 \\n',\n",
       " 'HAVE, 3 \\n',\n",
       " 'A, 4 \\n',\n",
       " 'NEW, 5 \\n',\n",
       " 'FEAR, 6 \\n',\n",
       " 'WHEN, 7 \\n',\n",
       " 'IT, 8 \\n',\n",
       " 'COMES, 9 \\n']"
      ]
     },
     "execution_count": 11,
     "metadata": {},
     "output_type": "execute_result"
    }
   ],
   "source": [
    "word_index_mapping[:10]"
   ]
  },
  {
   "cell_type": "markdown",
   "metadata": {},
   "source": [
    "<b>Create Feature<b>"
   ]
  },
  {
   "cell_type": "code",
   "execution_count": 14,
   "metadata": {},
   "outputs": [
    {
     "name": "stdout",
     "output_type": "stream",
     "text": [
      "finished\n",
      "finished\n"
     ]
    }
   ],
   "source": [
    "N1 = np.shape(articles1_array)[0]\n",
    "N4 = np.shape(fake_array)[0]\n",
    "dataset_length = N1 + N4\n",
    "F = len([*dict])\n",
    "X = np.zeros((dataset_length, F))\n",
    "datas = [articles1_array, fake_array]\n",
    "count = 0;\n",
    "for data in datas:\n",
    "    N = np.shape(data)[0];\n",
    "    for i in range(N):\n",
    "        if((type(data[i,0]) is not str)):\n",
    "            continue;\n",
    "        if((type(data[i,1]) is not str)):\n",
    "            continue;\n",
    "        title = re.sub(r'[^\\w\\s]','',data[i,0]).upper().split()\n",
    "        content = re.sub(r'[^\\w\\s]','',data[i,1]).upper().split()\n",
    "        content.extend(title)\n",
    "        for word in content:\n",
    "            X[count, dict[word]] += 1\n",
    "        count+=1\n",
    "        #print(count)\n",
    "    print(\"finished\")"
   ]
  },
  {
   "cell_type": "markdown",
   "metadata": {},
   "source": [
    "#### shuffle and split dataset"
   ]
  },
  {
   "cell_type": "code",
   "execution_count": 15,
   "metadata": {},
   "outputs": [],
   "source": [
    "features = X\n",
    "del X"
   ]
  },
  {
   "cell_type": "code",
   "execution_count": 16,
   "metadata": {},
   "outputs": [],
   "source": [
    "fake_length = N4\n",
    "lab = [1]*(dataset_length-fake_length)\n",
    "neg = [0]*fake_length\n",
    "lab.extend(neg)"
   ]
  },
  {
   "cell_type": "code",
   "execution_count": 17,
   "metadata": {},
   "outputs": [],
   "source": [
    "index = np.arange(0,dataset_length)"
   ]
  },
  {
   "cell_type": "code",
   "execution_count": 18,
   "metadata": {},
   "outputs": [],
   "source": [
    "np.random.shuffle(index)"
   ]
  },
  {
   "cell_type": "code",
   "execution_count": 19,
   "metadata": {},
   "outputs": [],
   "source": [
    "np.save(\"article_index.npy\",index)"
   ]
  },
  {
   "cell_type": "code",
   "execution_count": 20,
   "metadata": {},
   "outputs": [],
   "source": [
    "training_index1 = index[:int(dataset_length*0.4)]\n",
    "training_features1 = np.take(features, training_index1, axis=0)\n",
    "training_labels1 = np.take(lab, training_index1)"
   ]
  },
  {
   "cell_type": "code",
   "execution_count": 21,
   "metadata": {},
   "outputs": [],
   "source": [
    "np.save(\"training_features1.npy\",training_features1)\n",
    "np.save(\"training_labels1.npy\",training_labels1)"
   ]
  },
  {
   "cell_type": "code",
   "execution_count": 22,
   "metadata": {},
   "outputs": [],
   "source": [
    "np.save(\"training_labels1.npy\",training_labels1)"
   ]
  },
  {
   "cell_type": "code",
   "execution_count": 23,
   "metadata": {},
   "outputs": [],
   "source": [
    "del training_features1 \n",
    "del training_labels1\n",
    "del training_index1"
   ]
  },
  {
   "cell_type": "code",
   "execution_count": 24,
   "metadata": {},
   "outputs": [],
   "source": [
    "training_index2 = index[int(dataset_length*0.4):int(dataset_length*0.8)]\n",
    "training_features2 = np.take(features, training_index2, axis=0)\n",
    "training_labels2 = np.take(lab, training_index2)"
   ]
  },
  {
   "cell_type": "code",
   "execution_count": 25,
   "metadata": {},
   "outputs": [],
   "source": [
    "np.save(\"training_features2.npy\",training_features2)\n",
    "np.save(\"training_labels2.npy\",training_labels2)"
   ]
  },
  {
   "cell_type": "code",
   "execution_count": 26,
   "metadata": {},
   "outputs": [],
   "source": [
    "del training_features2\n",
    "del training_labels2"
   ]
  },
  {
   "cell_type": "code",
   "execution_count": 27,
   "metadata": {},
   "outputs": [],
   "source": [
    "del training_index2"
   ]
  },
  {
   "cell_type": "code",
   "execution_count": 28,
   "metadata": {},
   "outputs": [],
   "source": [
    "test_index = index[int(dataset_length*0.8):int(dataset_length*0.9)]\n",
    "test_features = np.take(features, test_index, axis=0)\n",
    "test_labels = np.take(lab, test_index)"
   ]
  },
  {
   "cell_type": "code",
   "execution_count": 29,
   "metadata": {},
   "outputs": [],
   "source": [
    "np.save(\"test_features.npy\",test_features)\n",
    "np.save(\"test_labels.npy\",test_labels)"
   ]
  },
  {
   "cell_type": "code",
   "execution_count": 30,
   "metadata": {},
   "outputs": [],
   "source": [
    "del test_features\n",
    "del test_labels\n",
    "del test_index"
   ]
  },
  {
   "cell_type": "code",
   "execution_count": 31,
   "metadata": {},
   "outputs": [],
   "source": [
    "validation_index = index[int(dataset_length*0.9):]\n",
    "validation_features = np.take(features, validation_index, axis=0)\n",
    "validation_labels = np.take(lab, validation_index)"
   ]
  },
  {
   "cell_type": "code",
   "execution_count": 32,
   "metadata": {},
   "outputs": [],
   "source": [
    "np.save(\"validation_features.npy\", validation_features)\n",
    "np.save(\"validation_labels.npy\", validation_labels)"
   ]
  },
  {
   "cell_type": "code",
   "execution_count": 33,
   "metadata": {},
   "outputs": [
    {
     "data": {
      "text/plain": [
       "(2000, 209429)"
      ]
     },
     "execution_count": 33,
     "metadata": {},
     "output_type": "execute_result"
    }
   ],
   "source": [
    "validation_features.shape"
   ]
  },
  {
   "cell_type": "code",
   "execution_count": 35,
   "metadata": {},
   "outputs": [],
   "source": [
    "import numpy as np\n",
    "training = np.load(\"./training_features1.npy\")"
   ]
  },
  {
   "cell_type": "code",
   "execution_count": 36,
   "metadata": {},
   "outputs": [
    {
     "name": "stdout",
     "output_type": "stream",
     "text": [
      "(8000, 209429)\n"
     ]
    }
   ],
   "source": [
    "print(training.shape)"
   ]
  },
  {
   "cell_type": "code",
   "execution_count": 38,
   "metadata": {},
   "outputs": [
    {
     "data": {
      "text/plain": [
       "array([ 6965,  8307, 11685, ...,  1293, 16826, 18502])"
      ]
     },
     "execution_count": 38,
     "metadata": {},
     "output_type": "execute_result"
    }
   ],
   "source": [
    "np.load(\"./article_index.npy\")"
   ]
  },
  {
   "cell_type": "code",
   "execution_count": 40,
   "metadata": {},
   "outputs": [],
   "source": [
    "training_index1 = index[:int(dataset_length*0.4)]\n",
    "training_index2 = index[int(dataset_length*0.4):int(dataset_length*0.8)]\n",
    "test_index = index[int(dataset_length*0.8):int(dataset_length*0.9)]\n",
    "validation_index = index[int(dataset_length*0.9):]"
   ]
  },
  {
   "cell_type": "code",
   "execution_count": 45,
   "metadata": {},
   "outputs": [],
   "source": [
    "np.save(\"./index/training_index1\",training_index1)"
   ]
  },
  {
   "cell_type": "code",
   "execution_count": 46,
   "metadata": {},
   "outputs": [],
   "source": [
    "np.save(\"./index/training_index2\",training_index2)"
   ]
  },
  {
   "cell_type": "code",
   "execution_count": 47,
   "metadata": {},
   "outputs": [],
   "source": [
    "np.save(\"./index/test_index\",test_index)"
   ]
  },
  {
   "cell_type": "code",
   "execution_count": 48,
   "metadata": {},
   "outputs": [],
   "source": [
    "np.save(\"./index/validation_index\",validation_index)"
   ]
  },
  {
   "cell_type": "code",
   "execution_count": 55,
   "metadata": {},
   "outputs": [],
   "source": [
    "total_content = []\n",
    "for content in articles1_content.values:\n",
    "    total_content += [content]"
   ]
  },
  {
   "cell_type": "code",
   "execution_count": 59,
   "metadata": {},
   "outputs": [],
   "source": [
    "for content in fakearticle_content.values:\n",
    "    total_content += [content]"
   ]
  },
  {
   "cell_type": "code",
   "execution_count": 75,
   "metadata": {},
   "outputs": [],
   "source": [
    "import csv\n",
    "with open('total_contents.csv', 'w') as csvfile:\n",
    "    writer = csv.writer(csvfile, delimiter=',')\n",
    "    writer.writerow([\"title\",\"content\"])\n",
    "    for title, article in total_content:\n",
    "        writer.writerow([title, article])"
   ]
  },
  {
   "cell_type": "code",
   "execution_count": 76,
   "metadata": {},
   "outputs": [
    {
     "data": {
      "text/html": [
       "<div>\n",
       "<style scoped>\n",
       "    .dataframe tbody tr th:only-of-type {\n",
       "        vertical-align: middle;\n",
       "    }\n",
       "\n",
       "    .dataframe tbody tr th {\n",
       "        vertical-align: top;\n",
       "    }\n",
       "\n",
       "    .dataframe thead th {\n",
       "        text-align: right;\n",
       "    }\n",
       "</style>\n",
       "<table border=\"1\" class=\"dataframe\">\n",
       "  <thead>\n",
       "    <tr style=\"text-align: right;\">\n",
       "      <th></th>\n",
       "      <th>title</th>\n",
       "      <th>content</th>\n",
       "    </tr>\n",
       "  </thead>\n",
       "  <tbody>\n",
       "    <tr>\n",
       "      <th>0</th>\n",
       "      <td>House Republicans Fret About Winning Their Hea...</td>\n",
       "      <td>WASHINGTON  —   Congressional Republicans have...</td>\n",
       "    </tr>\n",
       "    <tr>\n",
       "      <th>1</th>\n",
       "      <td>Rift Between Officers and Residents as Killing...</td>\n",
       "      <td>After the bullet shells get counted, the blood...</td>\n",
       "    </tr>\n",
       "    <tr>\n",
       "      <th>2</th>\n",
       "      <td>Tyrus Wong, ‘Bambi’ Artist Thwarted by Racial ...</td>\n",
       "      <td>When Walt Disney’s “Bambi” opened in 1942, cri...</td>\n",
       "    </tr>\n",
       "    <tr>\n",
       "      <th>3</th>\n",
       "      <td>Among Deaths in 2016, a Heavy Toll in Pop Musi...</td>\n",
       "      <td>Death may be the great equalizer, but it isn’t...</td>\n",
       "    </tr>\n",
       "    <tr>\n",
       "      <th>4</th>\n",
       "      <td>Kim Jong-un Says North Korea Is Preparing to T...</td>\n",
       "      <td>SEOUL, South Korea  —   North Korea’s leader, ...</td>\n",
       "    </tr>\n",
       "    <tr>\n",
       "      <th>5</th>\n",
       "      <td>Sick With a Cold, Queen Elizabeth Misses New Y...</td>\n",
       "      <td>LONDON  —   Queen Elizabeth II, who has been b...</td>\n",
       "    </tr>\n",
       "    <tr>\n",
       "      <th>6</th>\n",
       "      <td>Taiwan’s President Accuses China of Renewed In...</td>\n",
       "      <td>BEIJING  —   President Tsai   of Taiwan sharpl...</td>\n",
       "    </tr>\n",
       "    <tr>\n",
       "      <th>7</th>\n",
       "      <td>After ‘The Biggest Loser,’ Their Bodies Fought...</td>\n",
       "      <td>Danny Cahill stood, slightly dazed, in a blizz...</td>\n",
       "    </tr>\n",
       "    <tr>\n",
       "      <th>8</th>\n",
       "      <td>First, a Mixtape. Then a Romance. - The New Yo...</td>\n",
       "      <td>Just how   is Hillary Kerr, the    founder of ...</td>\n",
       "    </tr>\n",
       "    <tr>\n",
       "      <th>9</th>\n",
       "      <td>Calling on Angels While Enduring the Trials of...</td>\n",
       "      <td>Angels are everywhere in the Muñiz family’s ap...</td>\n",
       "    </tr>\n",
       "    <tr>\n",
       "      <th>10</th>\n",
       "      <td>Weak Federal Powers Could Limit Trump’s Climat...</td>\n",
       "      <td>With Donald J. Trump about to take control of ...</td>\n",
       "    </tr>\n",
       "    <tr>\n",
       "      <th>11</th>\n",
       "      <td>Can Carbon Capture Technology Prosper Under Tr...</td>\n",
       "      <td>THOMPSONS, Tex.  —   Can one of the most promi...</td>\n",
       "    </tr>\n",
       "    <tr>\n",
       "      <th>12</th>\n",
       "      <td>Mar-a-Lago, the Future Winter White House and ...</td>\n",
       "      <td>WEST PALM BEACH, Fla.  —   When   Donald J. Tr...</td>\n",
       "    </tr>\n",
       "    <tr>\n",
       "      <th>13</th>\n",
       "      <td>How to form healthy habits in your 20s - The N...</td>\n",
       "      <td>This article is part of a series aimed at help...</td>\n",
       "    </tr>\n",
       "    <tr>\n",
       "      <th>14</th>\n",
       "      <td>Turning Your Vacation Photos Into Works of Art...</td>\n",
       "      <td>It’s the season for family travel and photos  ...</td>\n",
       "    </tr>\n",
       "    <tr>\n",
       "      <th>15</th>\n",
       "      <td>As Second Avenue Subway Opens, a Train Delay E...</td>\n",
       "      <td>Finally. The Second Avenue subway opened in Ne...</td>\n",
       "    </tr>\n",
       "    <tr>\n",
       "      <th>16</th>\n",
       "      <td>Dylann Roof Himself Rejects Best Defense Again...</td>\n",
       "      <td>pages into the   journal found in Dylann S. ...</td>\n",
       "    </tr>\n",
       "    <tr>\n",
       "      <th>17</th>\n",
       "      <td>Modi’s Cash Ban Brings Pain, but Corruption-We...</td>\n",
       "      <td>MUMBAI, India  —   It was a bold and risky gam...</td>\n",
       "    </tr>\n",
       "    <tr>\n",
       "      <th>18</th>\n",
       "      <td>Suicide Bombing in Baghdad Kills at Least 36 -...</td>\n",
       "      <td>BAGHDAD  —   A suicide bomber detonated a pick...</td>\n",
       "    </tr>\n",
       "    <tr>\n",
       "      <th>19</th>\n",
       "      <td>Fecal Pollution Taints Water at Melbourne’s Be...</td>\n",
       "      <td>SYDNEY, Australia  —   The annual beach pilgri...</td>\n",
       "    </tr>\n",
       "    <tr>\n",
       "      <th>20</th>\n",
       "      <td>N.F.L. Playoffs: Schedule, Matchups and Odds -...</td>\n",
       "      <td>When the Green Bay Packers lost to the Washing...</td>\n",
       "    </tr>\n",
       "    <tr>\n",
       "      <th>21</th>\n",
       "      <td>Mariah Carey’s Manager Blames Producers for Ne...</td>\n",
       "      <td>Mariah Carey suffered through a performance tr...</td>\n",
       "    </tr>\n",
       "    <tr>\n",
       "      <th>22</th>\n",
       "      <td>Damaged by War, Syria’s Cultural Sites Rise An...</td>\n",
       "      <td>PARIS  —   When the Islamic State was about to...</td>\n",
       "    </tr>\n",
       "    <tr>\n",
       "      <th>23</th>\n",
       "      <td>George Michael’s Freedom Video: An Oral Histor...</td>\n",
       "      <td>Pop music and fashion never met cuter than in ...</td>\n",
       "    </tr>\n",
       "    <tr>\n",
       "      <th>24</th>\n",
       "      <td>With New Congress Poised to Convene, Obama’s P...</td>\n",
       "      <td>WASHINGTON  —   The most powerful and ambitiou...</td>\n",
       "    </tr>\n",
       "    <tr>\n",
       "      <th>25</th>\n",
       "      <td>Republicans Stonewalled Obama. Now the Ball Is...</td>\n",
       "      <td>WASHINGTON  —   It’s   or   time for Republica...</td>\n",
       "    </tr>\n",
       "    <tr>\n",
       "      <th>26</th>\n",
       "      <td>Istanbul, Donald Trump, Benjamin Netanyahu: Yo...</td>\n",
       "      <td>Good morning.  Here’s what you need to know: •...</td>\n",
       "    </tr>\n",
       "    <tr>\n",
       "      <th>27</th>\n",
       "      <td>Inside Trump Defense Secretary Pick’s Efforts ...</td>\n",
       "      <td>The body of the Iraqi prisoner was found naked...</td>\n",
       "    </tr>\n",
       "    <tr>\n",
       "      <th>28</th>\n",
       "      <td>ISIS Claims Responsibility for Istanbul Nightc...</td>\n",
       "      <td>ISTANBUL  —   The Islamic State on Monday issu...</td>\n",
       "    </tr>\n",
       "    <tr>\n",
       "      <th>29</th>\n",
       "      <td>The Afghan War and the Evolution of Obama - Th...</td>\n",
       "      <td>WASHINGTON  —   President Obama’s advisers wre...</td>\n",
       "    </tr>\n",
       "    <tr>\n",
       "      <th>...</th>\n",
       "      <td>...</td>\n",
       "      <td>...</td>\n",
       "    </tr>\n",
       "    <tr>\n",
       "      <th>19970</th>\n",
       "      <td>Black Community Early Vote Count Down; Clinton...</td>\n",
       "      <td>Email \\nAs Election Day approaches, Democratic...</td>\n",
       "    </tr>\n",
       "    <tr>\n",
       "      <th>19971</th>\n",
       "      <td>Chinese Steadily Buying U.S. Entertainment Bus...</td>\n",
       "      <td>Email \\nFlush with money from selling inexpens...</td>\n",
       "    </tr>\n",
       "    <tr>\n",
       "      <th>19972</th>\n",
       "      <td>NRA: Elect Senators to Save U.S. From UN Arms ...</td>\n",
       "      <td>Email \\nOn November 4, the National Rifle Asso...</td>\n",
       "    </tr>\n",
       "    <tr>\n",
       "      <th>19973</th>\n",
       "      <td>Va. Governor Grants Voting Rights to Enough Fe...</td>\n",
       "      <td>Email \\nRepublican presidential contender Dona...</td>\n",
       "    </tr>\n",
       "    <tr>\n",
       "      <th>19974</th>\n",
       "      <td>FBI Gives Clinton Another Pass, Trump Claims \"...</td>\n",
       "      <td>Email \\nWhen FBI Director James Comey (shown o...</td>\n",
       "    </tr>\n",
       "    <tr>\n",
       "      <th>19975</th>\n",
       "      <td>Obama Freaks Out Over Freedom of the Press</td>\n",
       "      <td>Email \\nObama recently criticized what he desc...</td>\n",
       "    </tr>\n",
       "    <tr>\n",
       "      <th>19976</th>\n",
       "      <td>Establishment Boasts Its Paris Climate Agreeme...</td>\n",
       "      <td>Email \\nThe establishment has been celebrating...</td>\n",
       "    </tr>\n",
       "    <tr>\n",
       "      <th>19977</th>\n",
       "      <td>Election Day: Painful Choices</td>\n",
       "      <td>Email \\nLet's talk sense about the election. N...</td>\n",
       "    </tr>\n",
       "    <tr>\n",
       "      <th>19978</th>\n",
       "      <td>UN “Human Rights” Council Now Officially Contr...</td>\n",
       "      <td>Email \\nMore than half of the regimes sitting ...</td>\n",
       "    </tr>\n",
       "    <tr>\n",
       "      <th>19979</th>\n",
       "      <td>Rules of the Game</td>\n",
       "      <td>Email \\nThe underpinnings of a decent society ...</td>\n",
       "    </tr>\n",
       "    <tr>\n",
       "      <th>19980</th>\n",
       "      <td>Don Kates, the Igniter of the Second Amendment...</td>\n",
       "      <td>Email \\nOne week ago today, Don Kates (shown),...</td>\n",
       "    </tr>\n",
       "    <tr>\n",
       "      <th>19981</th>\n",
       "      <td>Solving the Debt Crisis</td>\n",
       "      <td>The solution to our debt crisis is for “We the...</td>\n",
       "    </tr>\n",
       "    <tr>\n",
       "      <th>19982</th>\n",
       "      <td>Clinton Scandal Avalanche: Bombshells Too Nume...</td>\n",
       "      <td>From: Marina Abramovic &lt;marinaxabramovic@gmail...</td>\n",
       "    </tr>\n",
       "    <tr>\n",
       "      <th>19983</th>\n",
       "      <td>Bill Clinton Said White Middle-class Life Expe...</td>\n",
       "      <td>Email \\nSpeaking at a Hillary Clinton fundrais...</td>\n",
       "    </tr>\n",
       "    <tr>\n",
       "      <th>19984</th>\n",
       "      <td>Globalist Soros Pours Money Into Manipulating ...</td>\n",
       "      <td>Email \\nBillionaire globalist George Soros (sh...</td>\n",
       "    </tr>\n",
       "    <tr>\n",
       "      <th>19985</th>\n",
       "      <td>Hillary Wins Popular Vote; Trump Will Be the N...</td>\n",
       "      <td>Email \\nFollowing one of the most contentious ...</td>\n",
       "    </tr>\n",
       "    <tr>\n",
       "      <th>19986</th>\n",
       "      <td>Democrat States Use Nullification to End War o...</td>\n",
       "      <td>Email \\nVoters in at least four states decided...</td>\n",
       "    </tr>\n",
       "    <tr>\n",
       "      <th>19987</th>\n",
       "      <td>What to Expect From the New Congress</td>\n",
       "      <td>Email \\nIn what Democrats and the Left hoped w...</td>\n",
       "    </tr>\n",
       "    <tr>\n",
       "      <th>19988</th>\n",
       "      <td>Trump’s First 100 Days; Obama’s Last 70 Days</td>\n",
       "      <td>Email \\nPresident-elect Donald Trump will be e...</td>\n",
       "    </tr>\n",
       "    <tr>\n",
       "      <th>19989</th>\n",
       "      <td>Illegal Immigrant Advocates Pledge to Resist D...</td>\n",
       "      <td>Email \\nFollowing the surprisingly strong elec...</td>\n",
       "    </tr>\n",
       "    <tr>\n",
       "      <th>19990</th>\n",
       "      <td>Trump Wins in Historic Anti-establishment Upri...</td>\n",
       "      <td>Email \\nDonald Trump has done what many said c...</td>\n",
       "    </tr>\n",
       "    <tr>\n",
       "      <th>19991</th>\n",
       "      <td>Brits Fined and Prosecuted for Weeds, Weeping,...</td>\n",
       "      <td>Email \\nPetty tyranny is alive and well in the...</td>\n",
       "    </tr>\n",
       "    <tr>\n",
       "      <th>19992</th>\n",
       "      <td>ObamaCare on the Brink</td>\n",
       "      <td>As was predicted by opponents from the start, ...</td>\n",
       "    </tr>\n",
       "    <tr>\n",
       "      <th>19993</th>\n",
       "      <td>Will Lame-duck Obama Implement More Radical Ag...</td>\n",
       "      <td>Email \\nIn American political terminology, “la...</td>\n",
       "    </tr>\n",
       "    <tr>\n",
       "      <th>19994</th>\n",
       "      <td>The Onion - America's Finest News Source</td>\n",
       "      <td>The storm before the calm before the storm • S...</td>\n",
       "    </tr>\n",
       "    <tr>\n",
       "      <th>19995</th>\n",
       "      <td>Area Dad Informs Busboy He’s Ready To Order - ...</td>\n",
       "      <td>New Parenting Trend Involves Just Handing Chil...</td>\n",
       "    </tr>\n",
       "    <tr>\n",
       "      <th>19996</th>\n",
       "      <td>White House Press Secretary Responds To Questi...</td>\n",
       "      <td>Report: Friend Has Been Going By Middle Name T...</td>\n",
       "    </tr>\n",
       "    <tr>\n",
       "      <th>19997</th>\n",
       "      <td>New Company Aims To Explore Intersection Of Te...</td>\n",
       "      <td>Pediatricians Ease Screen Time Guidelines New ...</td>\n",
       "    </tr>\n",
       "    <tr>\n",
       "      <th>19998</th>\n",
       "      <td>Lesser-Known Celebrity Contract Riders - The O...</td>\n",
       "      <td>Report: Friend Has Been Going By Middle Name T...</td>\n",
       "    </tr>\n",
       "    <tr>\n",
       "      <th>19999</th>\n",
       "      <td>Wealthy Father Nervously Waits For Response Af...</td>\n",
       "      <td>Wealthy Father Nervously Waits For Response Af...</td>\n",
       "    </tr>\n",
       "  </tbody>\n",
       "</table>\n",
       "<p>20000 rows × 2 columns</p>\n",
       "</div>"
      ],
      "text/plain": [
       "                                                   title  \\\n",
       "0      House Republicans Fret About Winning Their Hea...   \n",
       "1      Rift Between Officers and Residents as Killing...   \n",
       "2      Tyrus Wong, ‘Bambi’ Artist Thwarted by Racial ...   \n",
       "3      Among Deaths in 2016, a Heavy Toll in Pop Musi...   \n",
       "4      Kim Jong-un Says North Korea Is Preparing to T...   \n",
       "5      Sick With a Cold, Queen Elizabeth Misses New Y...   \n",
       "6      Taiwan’s President Accuses China of Renewed In...   \n",
       "7      After ‘The Biggest Loser,’ Their Bodies Fought...   \n",
       "8      First, a Mixtape. Then a Romance. - The New Yo...   \n",
       "9      Calling on Angels While Enduring the Trials of...   \n",
       "10     Weak Federal Powers Could Limit Trump’s Climat...   \n",
       "11     Can Carbon Capture Technology Prosper Under Tr...   \n",
       "12     Mar-a-Lago, the Future Winter White House and ...   \n",
       "13     How to form healthy habits in your 20s - The N...   \n",
       "14     Turning Your Vacation Photos Into Works of Art...   \n",
       "15     As Second Avenue Subway Opens, a Train Delay E...   \n",
       "16     Dylann Roof Himself Rejects Best Defense Again...   \n",
       "17     Modi’s Cash Ban Brings Pain, but Corruption-We...   \n",
       "18     Suicide Bombing in Baghdad Kills at Least 36 -...   \n",
       "19     Fecal Pollution Taints Water at Melbourne’s Be...   \n",
       "20     N.F.L. Playoffs: Schedule, Matchups and Odds -...   \n",
       "21     Mariah Carey’s Manager Blames Producers for Ne...   \n",
       "22     Damaged by War, Syria’s Cultural Sites Rise An...   \n",
       "23     George Michael’s Freedom Video: An Oral Histor...   \n",
       "24     With New Congress Poised to Convene, Obama’s P...   \n",
       "25     Republicans Stonewalled Obama. Now the Ball Is...   \n",
       "26     Istanbul, Donald Trump, Benjamin Netanyahu: Yo...   \n",
       "27     Inside Trump Defense Secretary Pick’s Efforts ...   \n",
       "28     ISIS Claims Responsibility for Istanbul Nightc...   \n",
       "29     The Afghan War and the Evolution of Obama - Th...   \n",
       "...                                                  ...   \n",
       "19970  Black Community Early Vote Count Down; Clinton...   \n",
       "19971  Chinese Steadily Buying U.S. Entertainment Bus...   \n",
       "19972  NRA: Elect Senators to Save U.S. From UN Arms ...   \n",
       "19973  Va. Governor Grants Voting Rights to Enough Fe...   \n",
       "19974  FBI Gives Clinton Another Pass, Trump Claims \"...   \n",
       "19975         Obama Freaks Out Over Freedom of the Press   \n",
       "19976  Establishment Boasts Its Paris Climate Agreeme...   \n",
       "19977                      Election Day: Painful Choices   \n",
       "19978  UN “Human Rights” Council Now Officially Contr...   \n",
       "19979                                  Rules of the Game   \n",
       "19980  Don Kates, the Igniter of the Second Amendment...   \n",
       "19981                            Solving the Debt Crisis   \n",
       "19982  Clinton Scandal Avalanche: Bombshells Too Nume...   \n",
       "19983  Bill Clinton Said White Middle-class Life Expe...   \n",
       "19984  Globalist Soros Pours Money Into Manipulating ...   \n",
       "19985  Hillary Wins Popular Vote; Trump Will Be the N...   \n",
       "19986  Democrat States Use Nullification to End War o...   \n",
       "19987               What to Expect From the New Congress   \n",
       "19988       Trump’s First 100 Days; Obama’s Last 70 Days   \n",
       "19989  Illegal Immigrant Advocates Pledge to Resist D...   \n",
       "19990  Trump Wins in Historic Anti-establishment Upri...   \n",
       "19991  Brits Fined and Prosecuted for Weeds, Weeping,...   \n",
       "19992                             ObamaCare on the Brink   \n",
       "19993  Will Lame-duck Obama Implement More Radical Ag...   \n",
       "19994           The Onion - America's Finest News Source   \n",
       "19995  Area Dad Informs Busboy He’s Ready To Order - ...   \n",
       "19996  White House Press Secretary Responds To Questi...   \n",
       "19997  New Company Aims To Explore Intersection Of Te...   \n",
       "19998  Lesser-Known Celebrity Contract Riders - The O...   \n",
       "19999  Wealthy Father Nervously Waits For Response Af...   \n",
       "\n",
       "                                                 content  \n",
       "0      WASHINGTON  —   Congressional Republicans have...  \n",
       "1      After the bullet shells get counted, the blood...  \n",
       "2      When Walt Disney’s “Bambi” opened in 1942, cri...  \n",
       "3      Death may be the great equalizer, but it isn’t...  \n",
       "4      SEOUL, South Korea  —   North Korea’s leader, ...  \n",
       "5      LONDON  —   Queen Elizabeth II, who has been b...  \n",
       "6      BEIJING  —   President Tsai   of Taiwan sharpl...  \n",
       "7      Danny Cahill stood, slightly dazed, in a blizz...  \n",
       "8      Just how   is Hillary Kerr, the    founder of ...  \n",
       "9      Angels are everywhere in the Muñiz family’s ap...  \n",
       "10     With Donald J. Trump about to take control of ...  \n",
       "11     THOMPSONS, Tex.  —   Can one of the most promi...  \n",
       "12     WEST PALM BEACH, Fla.  —   When   Donald J. Tr...  \n",
       "13     This article is part of a series aimed at help...  \n",
       "14     It’s the season for family travel and photos  ...  \n",
       "15     Finally. The Second Avenue subway opened in Ne...  \n",
       "16       pages into the   journal found in Dylann S. ...  \n",
       "17     MUMBAI, India  —   It was a bold and risky gam...  \n",
       "18     BAGHDAD  —   A suicide bomber detonated a pick...  \n",
       "19     SYDNEY, Australia  —   The annual beach pilgri...  \n",
       "20     When the Green Bay Packers lost to the Washing...  \n",
       "21     Mariah Carey suffered through a performance tr...  \n",
       "22     PARIS  —   When the Islamic State was about to...  \n",
       "23     Pop music and fashion never met cuter than in ...  \n",
       "24     WASHINGTON  —   The most powerful and ambitiou...  \n",
       "25     WASHINGTON  —   It’s   or   time for Republica...  \n",
       "26     Good morning.  Here’s what you need to know: •...  \n",
       "27     The body of the Iraqi prisoner was found naked...  \n",
       "28     ISTANBUL  —   The Islamic State on Monday issu...  \n",
       "29     WASHINGTON  —   President Obama’s advisers wre...  \n",
       "...                                                  ...  \n",
       "19970  Email \\nAs Election Day approaches, Democratic...  \n",
       "19971  Email \\nFlush with money from selling inexpens...  \n",
       "19972  Email \\nOn November 4, the National Rifle Asso...  \n",
       "19973  Email \\nRepublican presidential contender Dona...  \n",
       "19974  Email \\nWhen FBI Director James Comey (shown o...  \n",
       "19975  Email \\nObama recently criticized what he desc...  \n",
       "19976  Email \\nThe establishment has been celebrating...  \n",
       "19977  Email \\nLet's talk sense about the election. N...  \n",
       "19978  Email \\nMore than half of the regimes sitting ...  \n",
       "19979  Email \\nThe underpinnings of a decent society ...  \n",
       "19980  Email \\nOne week ago today, Don Kates (shown),...  \n",
       "19981  The solution to our debt crisis is for “We the...  \n",
       "19982  From: Marina Abramovic <marinaxabramovic@gmail...  \n",
       "19983  Email \\nSpeaking at a Hillary Clinton fundrais...  \n",
       "19984  Email \\nBillionaire globalist George Soros (sh...  \n",
       "19985  Email \\nFollowing one of the most contentious ...  \n",
       "19986  Email \\nVoters in at least four states decided...  \n",
       "19987  Email \\nIn what Democrats and the Left hoped w...  \n",
       "19988  Email \\nPresident-elect Donald Trump will be e...  \n",
       "19989  Email \\nFollowing the surprisingly strong elec...  \n",
       "19990  Email \\nDonald Trump has done what many said c...  \n",
       "19991  Email \\nPetty tyranny is alive and well in the...  \n",
       "19992  As was predicted by opponents from the start, ...  \n",
       "19993  Email \\nIn American political terminology, “la...  \n",
       "19994  The storm before the calm before the storm • S...  \n",
       "19995  New Parenting Trend Involves Just Handing Chil...  \n",
       "19996  Report: Friend Has Been Going By Middle Name T...  \n",
       "19997  Pediatricians Ease Screen Time Guidelines New ...  \n",
       "19998  Report: Friend Has Been Going By Middle Name T...  \n",
       "19999  Wealthy Father Nervously Waits For Response Af...  \n",
       "\n",
       "[20000 rows x 2 columns]"
      ]
     },
     "execution_count": 76,
     "metadata": {},
     "output_type": "execute_result"
    }
   ],
   "source": [
    "import pandas as pd\n",
    "pd.read_csv(\"total_contents.csv\")"
   ]
  },
  {
   "cell_type": "code",
   "execution_count": null,
   "metadata": {},
   "outputs": [],
   "source": []
  }
 ],
 "metadata": {
  "kernelspec": {
   "display_name": "Python 2",
   "language": "python",
   "name": "python2"
  },
  "language_info": {
   "codemirror_mode": {
    "name": "ipython",
    "version": 2
   },
   "file_extension": ".py",
   "mimetype": "text/x-python",
   "name": "python",
   "nbconvert_exporter": "python",
   "pygments_lexer": "ipython2",
   "version": "2.7.5"
  }
 },
 "nbformat": 4,
 "nbformat_minor": 2
}
