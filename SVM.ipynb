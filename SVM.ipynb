{
 "cells": [
  {
   "cell_type": "markdown",
   "metadata": {},
   "source": [
    "<b>open file<b>"
   ]
  },
  {
   "cell_type": "code",
   "execution_count": 1,
   "metadata": {
    "collapsed": true
   },
   "outputs": [],
   "source": [
    "import numpy as np\n",
    "from sklearn.preprocessing import normalize\n"
   ]
  },
  {
   "cell_type": "code",
   "execution_count": 2,
   "metadata": {
    "collapsed": true
   },
   "outputs": [],
   "source": [
    "train = np.load('/Users/yuji/Desktop/COMP562/FinalProject/data/training_features1.npy')\n",
    "train = normalize(train, axis = 1)\n",
    "\n",
    "train_label = np.load('/Users/yuji/Desktop/COMP562/FinalProject/data/training_labels1.npy')\n",
    "\n",
    "\n",
    "test = np.load('/Users/yuji/Desktop/COMP562/FinalProject/data/test_features.npy')\n",
    "test = normalize(test, axis = 1)\n",
    "\n",
    "test_label = np.load('/Users/yuji/Desktop/COMP562/FinalProject/data/test_labels.npy')\n"
   ]
  },
  {
   "cell_type": "code",
   "execution_count": 3,
   "metadata": {},
   "outputs": [
    {
     "name": "stdout",
     "output_type": "stream",
     "text": [
      "(2000, 209429)\n"
     ]
    }
   ],
   "source": [
    "train_small = train[:1000, :]\n",
    "train_label_small = train_label[:1000]\n",
    "test_small = test[1000:2000, :]\n",
    "test_label_small = test_label[1000:2000]\n",
    "print(test.shape)"
   ]
  },
  {
   "cell_type": "code",
   "execution_count": 4,
   "metadata": {},
   "outputs": [
    {
     "data": {
      "text/plain": [
       "SVC(C=1000, cache_size=200, class_weight=None, coef0=0.0,\n",
       "  decision_function_shape='ovr', degree=3, gamma='auto', kernel='linear',\n",
       "  max_iter=-1, probability=False, random_state=None, shrinking=True,\n",
       "  tol=0.001, verbose=False)"
      ]
     },
     "execution_count": 4,
     "metadata": {},
     "output_type": "execute_result"
    }
   ],
   "source": [
    "from sklearn.svm import SVC  \n",
    "svclassifier = SVC(kernel='linear', C = 1000)  \n",
    "svclassifier.fit(train_small, train_label_small)"
   ]
  },
  {
   "cell_type": "code",
   "execution_count": 24,
   "metadata": {
    "scrolled": false
   },
   "outputs": [
    {
     "name": "stdout",
     "output_type": "stream",
     "text": [
      "[[483  40]\n",
      " [ 35 442]]\n",
      "             precision    recall  f1-score   support\n",
      "\n",
      "          0       0.93      0.92      0.93       523\n",
      "          1       0.92      0.93      0.92       477\n",
      "\n",
      "avg / total       0.93      0.93      0.93      1000\n",
      "\n"
     ]
    }
   ],
   "source": [
    "from sklearn.metrics import classification_report, confusion_matrix  \n",
    "test_output_small = svclassifier.predict(test_small)\n",
    "print(confusion_matrix(test_output_small, test_label_small))  \n",
    "print(classification_report(test_output_small, test_label_small))  "
   ]
  }
 ],
 "metadata": {
  "kernelspec": {
   "display_name": "Python 2",
   "language": "python",
   "name": "python2"
  },
  "language_info": {
   "codemirror_mode": {
    "name": "ipython",
    "version": 2
   },
   "file_extension": ".py",
   "mimetype": "text/x-python",
   "name": "python",
   "nbconvert_exporter": "python",
   "pygments_lexer": "ipython2",
   "version": "2.7.5"
  }
 },
 "nbformat": 4,
 "nbformat_minor": 2
}
